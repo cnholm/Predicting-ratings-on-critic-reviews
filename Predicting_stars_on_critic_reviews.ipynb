{
 "cells": [
  {
   "cell_type": "code",
   "execution_count": 1,
   "metadata": {},
   "outputs": [
    {
     "name": "stderr",
     "output_type": "stream",
     "text": [
      "Using TensorFlow backend.\n"
     ]
    }
   ],
   "source": [
    "\n",
    "\n",
    "import numpy as np\n",
    "import pandas as pd\n",
    "from scipy import sparse\n",
    "\n",
    "from sklearn.pipeline import Pipeline, make_pipeline\n",
    "from sklearn.feature_extraction.text import TfidfVectorizer\n",
    "from sklearn.base import BaseEstimator, ClassifierMixin\n",
    "from sklearn.linear_model import LogisticRegression\n",
    "from sklearn.model_selection import cross_val_score\n",
    "from sklearn import metrics\n",
    "from sklearn.metrics import roc_auc_score\n",
    "from sklearn.model_selection import train_test_split\n",
    "from sklearn.ensemble import BaggingClassifier\n",
    "from sklearn.tree import DecisionTreeClassifier\n",
    "\n",
    "from keras.preprocessing.text import Tokenizer\n",
    "from keras.preprocessing.sequence import pad_sequences\n",
    "from keras.layers import Dense, Input, LSTM, Embedding, Dropout, Activation, SpatialDropout1D, GRU\n",
    "from keras.layers import Bidirectional, GlobalAveragePooling1D, GlobalMaxPooling1D, concatenate\n",
    "from keras.models import Model\n",
    "from keras import initializers, regularizers, constraints, optimizers, layers\n",
    "from keras.utils import to_categorical\n",
    "from keras.callbacks import EarlyStopping, ModelCheckpoint\n",
    "%matplotlib inline"
   ]
  },
  {
   "cell_type": "code",
   "execution_count": 2,
   "metadata": {
    "scrolled": false
   },
   "outputs": [],
   "source": [
    "# Uncomment df to choose which dataset to use\n",
    "#df = pd.read_csv('Guardian_reviews_ready_relevant_info.csv', usecols = ['review_text', 'stars'])\n",
    "#df = pd.read_csv('Guardian_reviews_ready_oversampled_and_undersampled.csv', usecols = ['review_text', 'stars'])\n",
    "#df = pd.read_csv('Guardian_reviews_ready_oversampled.csv', usecols = ['review_text', 'stars'])\n",
    "#df = pd.read_csv('Guardian_reviews_ready_oversampled_and_undersampled_1and2stars.csv', usecols = ['review_text', 'stars'])\n",
    "df = pd.read_csv('Guardian_reviews_ready_oversampled_and_undersampled(max=2549).csv', usecols = ['review_text', 'stars'])\n",
    "\n"
   ]
  },
  {
   "cell_type": "code",
   "execution_count": 3,
   "metadata": {
    "scrolled": false
   },
   "outputs": [
    {
     "data": {
      "text/html": [
       "<div>\n",
       "<style scoped>\n",
       "    .dataframe tbody tr th:only-of-type {\n",
       "        vertical-align: middle;\n",
       "    }\n",
       "\n",
       "    .dataframe tbody tr th {\n",
       "        vertical-align: top;\n",
       "    }\n",
       "\n",
       "    .dataframe thead th {\n",
       "        text-align: right;\n",
       "    }\n",
       "</style>\n",
       "<table border=\"1\" class=\"dataframe\">\n",
       "  <thead>\n",
       "    <tr style=\"text-align: right;\">\n",
       "      <th></th>\n",
       "      <th>review_text</th>\n",
       "      <th>stars</th>\n",
       "    </tr>\n",
       "  </thead>\n",
       "  <tbody>\n",
       "    <tr>\n",
       "      <th>0</th>\n",
       "      <td>the early 16th century playwright Jill Vicente...</td>\n",
       "      <td>1</td>\n",
       "    </tr>\n",
       "    <tr>\n",
       "      <th>1</th>\n",
       "      <td>\"HitsvilleUSA, Motown's 1960 chart headed to a...</td>\n",
       "      <td>1</td>\n",
       "    </tr>\n",
       "    <tr>\n",
       "      <th>2</th>\n",
       "      <td>\"English  National  Opera opens their new seas...</td>\n",
       "      <td>1</td>\n",
       "    </tr>\n",
       "    <tr>\n",
       "      <th>3</th>\n",
       "      <td>\"have you ever heard of two Frenchmen,two Amer...</td>\n",
       "      <td>1</td>\n",
       "    </tr>\n",
       "    <tr>\n",
       "      <th>4</th>\n",
       "      <td>Opera Holland Park should exist why someone ca...</td>\n",
       "      <td>1</td>\n",
       "    </tr>\n",
       "  </tbody>\n",
       "</table>\n",
       "</div>"
      ],
      "text/plain": [
       "                                         review_text  stars\n",
       "0  the early 16th century playwright Jill Vicente...      1\n",
       "1  \"HitsvilleUSA, Motown's 1960 chart headed to a...      1\n",
       "2  \"English  National  Opera opens their new seas...      1\n",
       "3  \"have you ever heard of two Frenchmen,two Amer...      1\n",
       "4  Opera Holland Park should exist why someone ca...      1"
      ]
     },
     "execution_count": 3,
     "metadata": {},
     "output_type": "execute_result"
    },
    {
     "data": {
      "image/png": "[encoded data removed]",
      "text/plain": [
       "<Figure size 432x288 with 1 Axes>"
      ]
     },
     "metadata": {
      "needs_background": "light"
     },
     "output_type": "display_data"
    }
   ],
   "source": [
    "# Show test set\n",
    "df['stars'].hist();df.head()"
   ]
  },
  {
   "cell_type": "code",
   "execution_count": 4,
   "metadata": {
    "scrolled": true
   },
   "outputs": [
    {
     "name": "stdout",
     "output_type": "stream",
     "text": [
      "stars\n",
      "1     188\n",
      "2    1640\n",
      "3    2549\n",
      "4    2549\n",
      "5    2549\n",
      "Name: review_text, dtype: int64\n"
     ]
    }
   ],
   "source": [
    "df_count = df.groupby('stars')['review_text'].count()\n",
    "print(df_count)"
   ]
  },
  {
   "cell_type": "code",
   "execution_count": 5,
   "metadata": {},
   "outputs": [
    {
     "name": "stdout",
     "output_type": "stream",
     "text": [
      "stars\n",
      "1     188\n",
      "2    1640\n",
      "3    2549\n",
      "4    2549\n",
      "5    2549\n",
      "Name: review_text, dtype: int64\n"
     ]
    }
   ],
   "source": [
    "df_unique = df.groupby('stars')['review_text'].nunique()\n",
    "print(df_unique)"
   ]
  },
  {
   "cell_type": "code",
   "execution_count": 6,
   "metadata": {},
   "outputs": [],
   "source": [
    "# Import stopwords with nltk.\n",
    "#from nltk.corpus import stopwords\n",
    "#stop = stopwords.words('english')\n",
    "\n",
    "#df.columns = [\"review_text\",\"class\"]\n",
    "\n",
    "# Exclude stopwords with Python's list comprehension and pandas.DataFrame.apply.\n",
    "#df['review_text_without_stopwords'] = df['review_text'].apply(lambda x: ' '.join([word for word in x.split() if word not in (stop)]))\n",
    "\n",
    "#print(df)"
   ]
  },
  {
   "cell_type": "code",
   "execution_count": 7,
   "metadata": {},
   "outputs": [
    {
     "data": {
      "text/html": [
       "<div>\n",
       "<style scoped>\n",
       "    .dataframe tbody tr th:only-of-type {\n",
       "        vertical-align: middle;\n",
       "    }\n",
       "\n",
       "    .dataframe tbody tr th {\n",
       "        vertical-align: top;\n",
       "    }\n",
       "\n",
       "    .dataframe thead th {\n",
       "        text-align: right;\n",
       "    }\n",
       "</style>\n",
       "<table border=\"1\" class=\"dataframe\">\n",
       "  <thead>\n",
       "    <tr style=\"text-align: right;\">\n",
       "      <th></th>\n",
       "      <th>review_text</th>\n",
       "      <th>stars</th>\n",
       "    </tr>\n",
       "  </thead>\n",
       "  <tbody>\n",
       "    <tr>\n",
       "      <th>7504</th>\n",
       "      <td>There is a certain thrill to seeing a band in ...</td>\n",
       "      <td>5</td>\n",
       "    </tr>\n",
       "    <tr>\n",
       "      <th>1829</th>\n",
       "      <td>Yuri Temirkanov is best known for his work wit...</td>\n",
       "      <td>3</td>\n",
       "    </tr>\n",
       "    <tr>\n",
       "      <th>1875</th>\n",
       "      <td>Anyone concerned that major-league hip-hop is ...</td>\n",
       "      <td>3</td>\n",
       "    </tr>\n",
       "    <tr>\n",
       "      <th>5009</th>\n",
       "      <td>In pop, the word \"troubled\" is normally follow...</td>\n",
       "      <td>4</td>\n",
       "    </tr>\n",
       "    <tr>\n",
       "      <th>8178</th>\n",
       "      <td>who leadsthe BBC Philharmonic Orchestra; revol...</td>\n",
       "      <td>5</td>\n",
       "    </tr>\n",
       "  </tbody>\n",
       "</table>\n",
       "</div>"
      ],
      "text/plain": [
       "                                            review_text  stars\n",
       "7504  There is a certain thrill to seeing a band in ...      5\n",
       "1829  Yuri Temirkanov is best known for his work wit...      3\n",
       "1875  Anyone concerned that major-league hip-hop is ...      3\n",
       "5009  In pop, the word \"troubled\" is normally follow...      4\n",
       "8178  who leadsthe BBC Philharmonic Orchestra; revol...      5"
      ]
     },
     "execution_count": 7,
     "metadata": {},
     "output_type": "execute_result"
    },
    {
     "data": {
      "image/png": "[encoded data removed]",
      "text/plain": [
       "<Figure size 432x288 with 1 Axes>"
      ]
     },
     "metadata": {
      "needs_background": "light"
     },
     "output_type": "display_data"
    }
   ],
   "source": [
    "# shuffle df\n",
    "from sklearn.utils import shuffle\n",
    "\n",
    "# Shuffle dataset to randomize\n",
    "df = shuffle(df)\n",
    "\n",
    "# Split into train and test set \n",
    "train, test = train_test_split(df, test_size=0.2)\n",
    "\n",
    "# Show train set\n",
    "train['stars'].hist();train.head()\n",
    "\n",
    "\n"
   ]
  },
  {
   "cell_type": "code",
   "execution_count": 8,
   "metadata": {},
   "outputs": [
    {
     "data": {
      "text/html": [
       "<div>\n",
       "<style scoped>\n",
       "    .dataframe tbody tr th:only-of-type {\n",
       "        vertical-align: middle;\n",
       "    }\n",
       "\n",
       "    .dataframe tbody tr th {\n",
       "        vertical-align: top;\n",
       "    }\n",
       "\n",
       "    .dataframe thead th {\n",
       "        text-align: right;\n",
       "    }\n",
       "</style>\n",
       "<table border=\"1\" class=\"dataframe\">\n",
       "  <thead>\n",
       "    <tr style=\"text-align: right;\">\n",
       "      <th></th>\n",
       "      <th>review_text</th>\n",
       "      <th>stars_1</th>\n",
       "      <th>stars_2</th>\n",
       "      <th>stars_3</th>\n",
       "      <th>stars_4</th>\n",
       "      <th>stars_5</th>\n",
       "    </tr>\n",
       "  </thead>\n",
       "  <tbody>\n",
       "    <tr>\n",
       "      <th>7504</th>\n",
       "      <td>There is a certain thrill to seeing a band in ...</td>\n",
       "      <td>0</td>\n",
       "      <td>0</td>\n",
       "      <td>0</td>\n",
       "      <td>0</td>\n",
       "      <td>1</td>\n",
       "    </tr>\n",
       "    <tr>\n",
       "      <th>1829</th>\n",
       "      <td>Yuri Temirkanov is best known for his work wit...</td>\n",
       "      <td>0</td>\n",
       "      <td>0</td>\n",
       "      <td>1</td>\n",
       "      <td>0</td>\n",
       "      <td>0</td>\n",
       "    </tr>\n",
       "    <tr>\n",
       "      <th>1875</th>\n",
       "      <td>Anyone concerned that major-league hip-hop is ...</td>\n",
       "      <td>0</td>\n",
       "      <td>0</td>\n",
       "      <td>1</td>\n",
       "      <td>0</td>\n",
       "      <td>0</td>\n",
       "    </tr>\n",
       "    <tr>\n",
       "      <th>5009</th>\n",
       "      <td>In pop, the word \"troubled\" is normally follow...</td>\n",
       "      <td>0</td>\n",
       "      <td>0</td>\n",
       "      <td>0</td>\n",
       "      <td>1</td>\n",
       "      <td>0</td>\n",
       "    </tr>\n",
       "    <tr>\n",
       "      <th>8178</th>\n",
       "      <td>who leadsthe BBC Philharmonic Orchestra; revol...</td>\n",
       "      <td>0</td>\n",
       "      <td>0</td>\n",
       "      <td>0</td>\n",
       "      <td>0</td>\n",
       "      <td>1</td>\n",
       "    </tr>\n",
       "  </tbody>\n",
       "</table>\n",
       "</div>"
      ],
      "text/plain": [
       "                                            review_text  stars_1  stars_2  \\\n",
       "7504  There is a certain thrill to seeing a band in ...        0        0   \n",
       "1829  Yuri Temirkanov is best known for his work wit...        0        0   \n",
       "1875  Anyone concerned that major-league hip-hop is ...        0        0   \n",
       "5009  In pop, the word \"troubled\" is normally follow...        0        0   \n",
       "8178  who leadsthe BBC Philharmonic Orchestra; revol...        0        0   \n",
       "\n",
       "      stars_3  stars_4  stars_5  \n",
       "7504        0        0        1  \n",
       "1829        1        0        0  \n",
       "1875        1        0        0  \n",
       "5009        0        1        0  \n",
       "8178        0        0        1  "
      ]
     },
     "execution_count": 8,
     "metadata": {},
     "output_type": "execute_result"
    }
   ],
   "source": [
    "# For Train set, use get_dummies to create columns for each stars and show whther there is a value or not (0 or 1)  \n",
    "train = pd.get_dummies(train, columns = ['stars'])\n",
    "train.head()"
   ]
  },
  {
   "cell_type": "code",
   "execution_count": 9,
   "metadata": {},
   "outputs": [
    {
     "data": {
      "text/html": [
       "<div>\n",
       "<style scoped>\n",
       "    .dataframe tbody tr th:only-of-type {\n",
       "        vertical-align: middle;\n",
       "    }\n",
       "\n",
       "    .dataframe tbody tr th {\n",
       "        vertical-align: top;\n",
       "    }\n",
       "\n",
       "    .dataframe thead th {\n",
       "        text-align: right;\n",
       "    }\n",
       "</style>\n",
       "<table border=\"1\" class=\"dataframe\">\n",
       "  <thead>\n",
       "    <tr style=\"text-align: right;\">\n",
       "      <th></th>\n",
       "      <th>review_text</th>\n",
       "      <th>stars_1</th>\n",
       "      <th>stars_2</th>\n",
       "      <th>stars_3</th>\n",
       "      <th>stars_4</th>\n",
       "      <th>stars_5</th>\n",
       "    </tr>\n",
       "  </thead>\n",
       "  <tbody>\n",
       "    <tr>\n",
       "      <th>7166</th>\n",
       "      <td>including perfect attention to detail and lase...</td>\n",
       "      <td>0</td>\n",
       "      <td>0</td>\n",
       "      <td>0</td>\n",
       "      <td>0</td>\n",
       "      <td>1</td>\n",
       "    </tr>\n",
       "    <tr>\n",
       "      <th>1496</th>\n",
       "      <td>The best moment in this concert celebrating Mi...</td>\n",
       "      <td>0</td>\n",
       "      <td>1</td>\n",
       "      <td>0</td>\n",
       "      <td>0</td>\n",
       "      <td>0</td>\n",
       "    </tr>\n",
       "    <tr>\n",
       "      <th>3850</th>\n",
       "      <td>On a clear and warm Saturday night in Sydney, ...</td>\n",
       "      <td>0</td>\n",
       "      <td>0</td>\n",
       "      <td>1</td>\n",
       "      <td>0</td>\n",
       "      <td>0</td>\n",
       "    </tr>\n",
       "    <tr>\n",
       "      <th>6905</th>\n",
       "      <td>Within five years at the start of the 20th cen...</td>\n",
       "      <td>0</td>\n",
       "      <td>0</td>\n",
       "      <td>0</td>\n",
       "      <td>1</td>\n",
       "      <td>0</td>\n",
       "    </tr>\n",
       "    <tr>\n",
       "      <th>435</th>\n",
       "      <td>Some experiences are critic-proof, and they in...</td>\n",
       "      <td>0</td>\n",
       "      <td>1</td>\n",
       "      <td>0</td>\n",
       "      <td>0</td>\n",
       "      <td>0</td>\n",
       "    </tr>\n",
       "  </tbody>\n",
       "</table>\n",
       "</div>"
      ],
      "text/plain": [
       "                                            review_text  stars_1  stars_2  \\\n",
       "7166  including perfect attention to detail and lase...        0        0   \n",
       "1496  The best moment in this concert celebrating Mi...        0        1   \n",
       "3850  On a clear and warm Saturday night in Sydney, ...        0        0   \n",
       "6905  Within five years at the start of the 20th cen...        0        0   \n",
       "435   Some experiences are critic-proof, and they in...        0        1   \n",
       "\n",
       "      stars_3  stars_4  stars_5  \n",
       "7166        0        0        1  \n",
       "1496        0        0        0  \n",
       "3850        1        0        0  \n",
       "6905        0        1        0  \n",
       "435         0        0        0  "
      ]
     },
     "execution_count": 9,
     "metadata": {},
     "output_type": "execute_result"
    }
   ],
   "source": [
    "# For Test set, use get_dummies to create columns for each stars and show whther there is a value or not (0 or 1)\n",
    "test = pd.get_dummies(test, columns = ['stars'])\n",
    "#train.shape, test.shape\n",
    "test.head()"
   ]
  },
  {
   "cell_type": "code",
   "execution_count": 10,
   "metadata": {},
   "outputs": [],
   "source": [
    "# tokenizing and tfidf calcuation is all done with sklearn's TfidfVectorizer method.\n",
    "# max_features is an upper bound on the number of words in the vocabulary\n",
    "max_features = 20000\n",
    "tfidf = TfidfVectorizer(max_features = max_features)"
   ]
  },
  {
   "cell_type": "code",
   "execution_count": 11,
   "metadata": {},
   "outputs": [],
   "source": [
    "class NBFeatures(BaseEstimator):\n",
    "    '''Class implementation of Jeremy Howards NB Linear model'''\n",
    "    def __init__(self, alpha):\n",
    "        # Smoothing Parameter: always going to be one for my use\n",
    "        self.alpha = alpha\n",
    "        \n",
    "    def preprocess_x(self, x, r):\n",
    "        return x.multiply(r)\n",
    "    \n",
    "    # calculate probabilities\n",
    "    def pr(self, x, y_i, y):\n",
    "        p = x[y == y_i].sum(0)\n",
    "        return (p + self.alpha)/((y==y_i).sum()+self.alpha)\n",
    "    \n",
    "    # calculate the log ratio and represent as sparse matrix\n",
    "    # ie fit the nb model\n",
    "    def fit(self, x, y = None):\n",
    "        self._r = sparse.csr_matrix(np.log(self.pr(x, 1, y) /self.pr(x, 0, y)))\n",
    "        return self\n",
    "    \n",
    "    # apply the nb fit to original features x\n",
    "    def transform(self, x):\n",
    "        x_nb = self.preprocess_x(x, self._r)\n",
    "        return x_nb"
   ]
  },
  {
   "cell_type": "code",
   "execution_count": 12,
   "metadata": {},
   "outputs": [],
   "source": [
    "# Create pipeline using sklearn pipeline:\n",
    "    # I basically create my tfidf features which are fed to my NB model \n",
    "    # for probability calculations. Then those are fed as input to my \n",
    "    # logistic regression model.\n",
    "lr = LogisticRegression()\n",
    "nb = NBFeatures(1)\n",
    "p = Pipeline([\n",
    "    ('tfidf', tfidf),\n",
    "    ('nb', nb),\n",
    "    ('lr', lr)\n",
    "])\n",
    "\n",
    "\n",
    "    #('bc', StackingClassifier(lr, \n",
    "                      #n_estimators=100, bootstrap=True, bootstrap_features=True, random_state=0))\n",
    "     "
   ]
  },
  {
   "cell_type": "code",
   "execution_count": 13,
   "metadata": {},
   "outputs": [
    {
     "name": "stdout",
     "output_type": "stream",
     "text": [
      "CV score for class stars_1 is 0.98179419461685\n",
      "CV score for class stars_2 is 0.8591025841471621\n",
      "CV score for class stars_3 is 0.7356204091092003\n",
      "CV score for class stars_4 is 0.7319261816666098\n",
      "CV score for class stars_5 is 0.8106855044432768\n"
     ]
    }
   ],
   "source": [
    "class_names = ['stars_1', 'stars_2', 'stars_3', 'stars_4', 'stars_5']\n",
    "scores = []\n",
    "preds = np.zeros((len(test), len(class_names)))\n",
    "for i, class_name in enumerate(class_names):\n",
    "    train_target = train[class_name]    \n",
    "    cv_score = np.mean(cross_val_score(estimator = p, X = train['review_text'].values, \n",
    "                                      y = train_target, cv = 3, scoring = 'accuracy'))\n",
    "    scores.append(cv_score)\n",
    "    print('CV score for class {} is {}'.format(class_name, cv_score))\n",
    "    p.fit(train['review_text'].values, train_target)\n",
    "    preds[:,i] = p.predict_proba(test['review_text'].values)[:,1]"
   ]
  },
  {
   "cell_type": "code",
   "execution_count": 14,
   "metadata": {},
   "outputs": [
    {
     "name": "stdout",
     "output_type": "stream",
     "text": [
      "              precision    recall  f1-score   support\n",
      "\n",
      "           0       1.00      0.26      0.41        46\n",
      "           1       0.76      0.64      0.69       320\n",
      "           2       0.52      0.54      0.53       517\n",
      "           3       0.46      0.50      0.48       495\n",
      "           4       0.69      0.71      0.70       517\n",
      "\n",
      "    accuracy                           0.59      1895\n",
      "   macro avg       0.69      0.53      0.56      1895\n",
      "weighted avg       0.60      0.59      0.59      1895\n",
      "\n"
     ]
    }
   ],
   "source": [
    "t = metrics.classification_report(np.argmax(test[class_names].values, axis = 1),np.argmax(preds, axis = 1))\n",
    "print(t)"
   ]
  },
  {
   "cell_type": "code",
   "execution_count": 15,
   "metadata": {},
   "outputs": [
    {
     "name": "stdout",
     "output_type": "stream",
     "text": [
      "[[ 12  10  14   2   8]\n",
      " [  0 205  57  28  30]\n",
      " [  0  29 281 161  46]\n",
      " [  0  15 150 247  83]\n",
      " [  0  11  37 101 368]]\n"
     ]
    }
   ],
   "source": [
    "v = metrics.confusion_matrix(np.argmax(test[class_names].values, axis = 1),np.argmax(preds, axis = 1))\n",
    "print(v)"
   ]
  },
  {
   "cell_type": "code",
   "execution_count": 16,
   "metadata": {},
   "outputs": [
    {
     "ename": "FileNotFoundError",
     "evalue": "[Errno 2] No such file or directory: '/Users/clausholm/Documents/Python/Libaries/glove.twitter.27B/glove.twitter.27B.200d.txt'",
     "output_type": "error",
     "traceback": [
      "\u001b[0;31m---------------------------------------------------------------------------\u001b[0m",
      "\u001b[0;31mFileNotFoundError\u001b[0m                         Traceback (most recent call last)",
      "\u001b[0;32m<ipython-input-16-6dd06adda3cd>\u001b[0m in \u001b[0;36m<module>\u001b[0;34m\u001b[0m\n\u001b[1;32m     14\u001b[0m \u001b[0;31m# read in embeddings\u001b[0m\u001b[0;34m\u001b[0m\u001b[0;34m\u001b[0m\u001b[0;34m\u001b[0m\u001b[0m\n\u001b[1;32m     15\u001b[0m \u001b[0;32mdef\u001b[0m \u001b[0mget_coefs\u001b[0m\u001b[0;34m(\u001b[0m\u001b[0mword\u001b[0m\u001b[0;34m,\u001b[0m\u001b[0;34m*\u001b[0m\u001b[0marr\u001b[0m\u001b[0;34m)\u001b[0m\u001b[0;34m:\u001b[0m \u001b[0;32mreturn\u001b[0m \u001b[0mword\u001b[0m\u001b[0;34m,\u001b[0m \u001b[0mnp\u001b[0m\u001b[0;34m.\u001b[0m\u001b[0masarray\u001b[0m\u001b[0;34m(\u001b[0m\u001b[0marr\u001b[0m\u001b[0;34m,\u001b[0m \u001b[0mdtype\u001b[0m\u001b[0;34m=\u001b[0m\u001b[0;34m'float32'\u001b[0m\u001b[0;34m)\u001b[0m\u001b[0;34m\u001b[0m\u001b[0;34m\u001b[0m\u001b[0m\n\u001b[0;32m---> 16\u001b[0;31m \u001b[0membeddings_index\u001b[0m \u001b[0;34m=\u001b[0m \u001b[0mdict\u001b[0m\u001b[0;34m(\u001b[0m\u001b[0mget_coefs\u001b[0m\u001b[0;34m(\u001b[0m\u001b[0;34m*\u001b[0m\u001b[0mo\u001b[0m\u001b[0;34m.\u001b[0m\u001b[0mstrip\u001b[0m\u001b[0;34m(\u001b[0m\u001b[0;34m)\u001b[0m\u001b[0;34m.\u001b[0m\u001b[0msplit\u001b[0m\u001b[0;34m(\u001b[0m\u001b[0;34m)\u001b[0m\u001b[0;34m)\u001b[0m \u001b[0;32mfor\u001b[0m \u001b[0mo\u001b[0m \u001b[0;32min\u001b[0m \u001b[0mopen\u001b[0m\u001b[0;34m(\u001b[0m\u001b[0membedding_file\u001b[0m\u001b[0;34m)\u001b[0m\u001b[0;34m)\u001b[0m\u001b[0;34m\u001b[0m\u001b[0;34m\u001b[0m\u001b[0m\n\u001b[0m",
      "\u001b[0;31mFileNotFoundError\u001b[0m: [Errno 2] No such file or directory: '/Users/clausholm/Documents/Python/Libaries/glove.twitter.27B/glove.twitter.27B.200d.txt'"
     ]
    }
   ],
   "source": [
    "# Technique 2\n",
    "\n",
    "# Word vectors to get pretrained word embeddings\n",
    "embed_size = 200 \n",
    "# max number of unique words\n",
    "max_features = 20000\n",
    "# max number of words from review to use. Reviews must be same lenght. \n",
    "maxlen = 250\n",
    "\n",
    "# File path to Twitter and Common Crawl embeddings\n",
    "embedding_file = '/Users/clausholm/Documents/Python/Libaries/glove.twitter.27B/glove.twitter.27B.200d.txt'\n",
    "#embedding_file = '/Users/clausholm/Documents/Python/review_predictor/crawl-300d-2M-subword.vec'\n",
    "\n",
    "# read in embeddings\n",
    "def get_coefs(word,*arr): return word, np.asarray(arr, dtype='float32')\n",
    "embeddings_index = dict(get_coefs(*o.strip().split()) for o in open(embedding_file))"
   ]
  },
  {
   "cell_type": "code",
   "execution_count": 35,
   "metadata": {},
   "outputs": [],
   "source": [
    "class_names = ['stars_1', 'stars_2', 'stars_3', 'stars_4', 'stars_5']\n",
    "# Splitting off my y variable\n",
    "y = train[class_names].values"
   ]
  },
  {
   "cell_type": "code",
   "execution_count": 36,
   "metadata": {},
   "outputs": [],
   "source": [
    "# Tokenizing\n",
    "tokenizer = Tokenizer(num_words=max_features)\n",
    "tokenizer.fit_on_texts(list(train['review_text'].values))\n",
    "X_train = tokenizer.texts_to_sequences(train['review_text'].values)\n",
    "X_test = tokenizer.texts_to_sequences(test['review_text'].values)\n",
    "\n",
    "# Padding added if there is not enough words in a review\n",
    "x_train = pad_sequences(X_train, maxlen = maxlen)\n",
    "x_test = pad_sequences(X_test, maxlen = maxlen)"
   ]
  },
  {
   "cell_type": "code",
   "execution_count": 37,
   "metadata": {},
   "outputs": [],
   "source": [
    "word_index = tokenizer.word_index\n",
    "\n",
    "nb_words = min(max_features, len(word_index))\n",
    "# create a zeros matrix of the correct dimensions \n",
    "embedding_matrix = np.zeros((nb_words, embed_size))\n",
    "missed = []\n",
    "for word, i in word_index.items():\n",
    "    if i >= max_features: break\n",
    "    embedding_vector = embeddings_index.get(word)\n",
    "    if embedding_vector is not None:\n",
    "        embedding_matrix[i] = embedding_vector\n",
    "    else:\n",
    "        missed.append(word)"
   ]
  },
  {
   "cell_type": "code",
   "execution_count": 38,
   "metadata": {},
   "outputs": [
    {
     "data": {
      "text/plain": [
       "2705"
      ]
     },
     "execution_count": 38,
     "metadata": {},
     "output_type": "execute_result"
    }
   ],
   "source": [
    "len(missed)"
   ]
  },
  {
   "cell_type": "code",
   "execution_count": 39,
   "metadata": {},
   "outputs": [
    {
     "data": {
      "text/plain": [
       "[\"it's\",\n",
       " 'it’s',\n",
       " \"don't\",\n",
       " \"there's\",\n",
       " \"doesn't\",\n",
       " \"he's\",\n",
       " '10',\n",
       " \"can't\",\n",
       " '1',\n",
       " \"i'm\"]"
      ]
     },
     "execution_count": 39,
     "metadata": {},
     "output_type": "execute_result"
    }
   ],
   "source": [
    "missed[0:10]"
   ]
  },
  {
   "cell_type": "code",
   "execution_count": 40,
   "metadata": {},
   "outputs": [
    {
     "data": {
      "text/plain": [
       "['01223',\n",
       " '3333',\n",
       " 'arditti',\n",
       " 'bartók’s',\n",
       " 'takacs',\n",
       " 'ruminations',\n",
       " 'mesmeric',\n",
       " 'eschews',\n",
       " 'unremitting',\n",
       " 'smith’s']"
      ]
     },
     "execution_count": 40,
     "metadata": {},
     "output_type": "execute_result"
    }
   ],
   "source": [
    "missed[1000:1010]"
   ]
  },
  {
   "cell_type": "code",
   "execution_count": 56,
   "metadata": {},
   "outputs": [],
   "source": [
    "inp = Input(shape = (maxlen,))\n",
    "x = Embedding(max_features, embed_size, weights = [embedding_matrix], trainable = True)(inp)\n",
    "x = SpatialDropout1D(0.5)(x)\n",
    "x = Bidirectional(LSTM(40, return_sequences=True))(x)\n",
    "x = Bidirectional(GRU(40, return_sequences=True))(x)\n",
    "avg_pool = GlobalAveragePooling1D()(x)\n",
    "max_pool = GlobalMaxPooling1D()(x)\n",
    "conc = concatenate([avg_pool, max_pool])\n",
    "outp = Dense(5, activation = 'softmax')(conc)\n",
    "\n",
    "model = Model(inputs = inp, outputs = outp)\n",
    "# patience is how many epochs to wait to see if val_loss will improve again.\n",
    "earlystop = EarlyStopping(monitor = 'val_loss', min_delta = 0, patience = 3)\n",
    "checkpoint = ModelCheckpoint(monitor = 'val_loss', save_best_only = True, filepath = 'yelp_lstm_gru_weights.hdf5')\n",
    "model.compile(loss = 'binary_crossentropy', optimizer = 'adam', metrics = ['accuracy'])"
   ]
  },
  {
   "cell_type": "code",
   "execution_count": 57,
   "metadata": {},
   "outputs": [
    {
     "name": "stdout",
     "output_type": "stream",
     "text": [
      "Train on 6822 samples, validate on 758 samples\n",
      "Epoch 1/50\n",
      "6822/6822 [==============================] - 20s 3ms/step - loss: 0.4928 - accuracy: 0.7894 - val_loss: 0.4721 - val_accuracy: 0.8000\n",
      "Epoch 2/50\n",
      "6822/6822 [==============================] - 19s 3ms/step - loss: 0.4569 - accuracy: 0.7999 - val_loss: 0.4646 - val_accuracy: 0.7937\n",
      "Epoch 3/50\n",
      "6822/6822 [==============================] - 21s 3ms/step - loss: 0.4398 - accuracy: 0.8028 - val_loss: 0.4535 - val_accuracy: 0.8013\n",
      "Epoch 4/50\n",
      "6822/6822 [==============================] - 21s 3ms/step - loss: 0.4253 - accuracy: 0.8040 - val_loss: 0.4234 - val_accuracy: 0.8092\n",
      "Epoch 5/50\n",
      "6822/6822 [==============================] - 21s 3ms/step - loss: 0.4025 - accuracy: 0.8113 - val_loss: 0.4007 - val_accuracy: 0.8172\n",
      "Epoch 6/50\n",
      "6822/6822 [==============================] - 23s 3ms/step - loss: 0.3793 - accuracy: 0.8235 - val_loss: 0.3937 - val_accuracy: 0.8137\n",
      "Epoch 7/50\n",
      "6822/6822 [==============================] - 21s 3ms/step - loss: 0.3433 - accuracy: 0.8371 - val_loss: 0.3699 - val_accuracy: 0.8230\n",
      "Epoch 8/50\n",
      "6822/6822 [==============================] - 22s 3ms/step - loss: 0.3201 - accuracy: 0.8496 - val_loss: 0.3704 - val_accuracy: 0.8264\n",
      "Epoch 9/50\n",
      "6822/6822 [==============================] - 21s 3ms/step - loss: 0.2901 - accuracy: 0.8661 - val_loss: 0.3482 - val_accuracy: 0.8259\n",
      "Epoch 10/50\n",
      "6822/6822 [==============================] - 23s 3ms/step - loss: 0.2669 - accuracy: 0.8761 - val_loss: 0.3433 - val_accuracy: 0.8288\n",
      "Epoch 11/50\n",
      "6822/6822 [==============================] - 24s 4ms/step - loss: 0.2406 - accuracy: 0.8931 - val_loss: 0.3497 - val_accuracy: 0.8293\n",
      "Epoch 12/50\n",
      "6822/6822 [==============================] - 25s 4ms/step - loss: 0.2169 - accuracy: 0.9042 - val_loss: 0.3448 - val_accuracy: 0.8319\n",
      "Epoch 13/50\n",
      "6822/6822 [==============================] - 25s 4ms/step - loss: 0.1983 - accuracy: 0.9147 - val_loss: 0.3650 - val_accuracy: 0.8332\n"
     ]
    },
    {
     "data": {
      "text/plain": [
       "<keras.callbacks.callbacks.History at 0x1456b7ac8>"
      ]
     },
     "execution_count": 57,
     "metadata": {},
     "output_type": "execute_result"
    }
   ],
   "source": [
    "model.fit(x_train, y, batch_size = 64, epochs = 50, validation_split = 0.1,\n",
    "          callbacks=[earlystop, checkpoint])"
   ]
  },
  {
   "cell_type": "code",
   "execution_count": 58,
   "metadata": {},
   "outputs": [
    {
     "name": "stdout",
     "output_type": "stream",
     "text": [
      "1895/1895 [==============================] - 2s 882us/step\n"
     ]
    }
   ],
   "source": [
    "y_test = model.predict([x_test], batch_size=1024, verbose = 1)"
   ]
  },
  {
   "cell_type": "code",
   "execution_count": 59,
   "metadata": {},
   "outputs": [
    {
     "name": "stdout",
     "output_type": "stream",
     "text": [
      "1895/1895 [==============================] - 2s 904us/step\n"
     ]
    },
    {
     "data": {
      "text/plain": [
       "[0.3483265312649015, 0.837678074836731]"
      ]
     },
     "execution_count": 59,
     "metadata": {},
     "output_type": "execute_result"
    }
   ],
   "source": [
    "model.evaluate(x_test, test[class_names].values, verbose = 1, batch_size=1024)\n"
   ]
  },
  {
   "cell_type": "code",
   "execution_count": 60,
   "metadata": {},
   "outputs": [
    {
     "name": "stdout",
     "output_type": "stream",
     "text": [
      "['loss', 'accuracy']\n"
     ]
    }
   ],
   "source": [
    "print (model.metrics_names)"
   ]
  },
  {
   "cell_type": "code",
   "execution_count": 61,
   "metadata": {},
   "outputs": [
    {
     "name": "stdout",
     "output_type": "stream",
     "text": [
      "              precision    recall  f1-score   support\n",
      "\n",
      "           0       0.00      0.00      0.00        29\n",
      "           1       0.66      0.63      0.65       299\n",
      "           2       0.48      0.72      0.58       493\n",
      "           3       0.52      0.44      0.47       528\n",
      "           4       0.79      0.63      0.70       546\n",
      "\n",
      "    accuracy                           0.59      1895\n",
      "   macro avg       0.49      0.48      0.48      1895\n",
      "weighted avg       0.60      0.59      0.59      1895\n",
      "\n"
     ]
    }
   ],
   "source": [
    "v = metrics.classification_report(np.argmax(test[class_names].values, axis = 1),np.argmax(y_test, axis = 1))\n",
    "print(v)"
   ]
  },
  {
   "cell_type": "code",
   "execution_count": 62,
   "metadata": {},
   "outputs": [
    {
     "name": "stdout",
     "output_type": "stream",
     "text": [
      "[[  0  23   5   1   0]\n",
      " [  0 189  88   6  16]\n",
      " [  0  40 353  80  20]\n",
      " [  0  11 232 231  54]\n",
      " [  0  24  52 127 343]]\n"
     ]
    }
   ],
   "source": [
    "v = metrics.confusion_matrix(np.argmax(test[class_names].values, axis = 1),np.argmax(y_test, axis = 1))\n",
    "print(v)"
   ]
  },
  {
   "cell_type": "code",
   "execution_count": null,
   "metadata": {},
   "outputs": [],
   "source": [
    "import matplotlib.pyplot as plt\n",
    "plt.matshow(v, cmap=plt.cm.gray)\n",
    "plt.show()"
   ]
  },
  {
   "cell_type": "code",
   "execution_count": null,
   "metadata": {},
   "outputs": [],
   "source": [
    "v = keras.metrics.accuracy(y_true, y_pred)"
   ]
  }
 ],
 "metadata": {
  "kernelspec": {
   "display_name": "Python 3",
   "language": "python",
   "name": "python3"
  },
  "language_info": {
   "codemirror_mode": {
    "name": "ipython",
    "version": 3
   },
   "file_extension": ".py",
   "mimetype": "text/x-python",
   "name": "python",
   "nbconvert_exporter": "python",
   "pygments_lexer": "ipython3",
   "version": "3.7.3"
  }
 },
 "nbformat": 4,
 "nbformat_minor": 2
}
